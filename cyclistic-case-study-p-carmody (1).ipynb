{
 "cells": [
  {
   "cell_type": "markdown",
   "id": "a955081b",
   "metadata": {
    "_execution_state": "idle",
    "_uuid": "051d70d956493feee0c6d64651c6a088724dca2a",
    "papermill": {
     "duration": 0.003676,
     "end_time": "2022-12-09T20:03:18.410067",
     "exception": false,
     "start_time": "2022-12-09T20:03:18.406391",
     "status": "completed"
    },
    "tags": []
   },
   "source": [
    "## Cyclistic Bike Share Case Study\n",
    "\n",
    "#### The mission statement\n",
    "The bike-sharing company wants to analyze its user data to find the main differences in behavior between their two types of users; the “casual” who pays for each ride and the annual member who pays a yearly subscription to the service.\n",
    "\n",
    "## 1. Ask\n",
    "#### A. Business Task\n",
    "The company desires to improve its revenue by understanding the relationship between 'casual' and 'member' users. The aim is to get a deep understanding of how causal and annual members differ in their users and then use this to target the causal users digitally to migrate over to becoming full-fledged members of the service. I will use historical data to identify these trends.\n",
    "\n",
    "*What would motivate a casual user to become a member?*\n",
    "\n",
    "#### B. Key Stakeholders:\n",
    "**Lily Moreno** is the director of marketing. Responsible for the development of campaigns and initiatives to promote the bike-share program.\n",
    "\n",
    "**Cyclistic marketing analytics team** A team of data analytics responsible for collecting, analyzing and reporting on data that helps guide Cyclistic's business strategy.\n",
    "\n",
    "**Cyclistic Executive Team** A team that will review recommendations from the analytics team and action any good recommendations."
   ]
  },
  {
   "cell_type": "markdown",
   "id": "b2f0bef8",
   "metadata": {
    "papermill": {
     "duration": 0.002663,
     "end_time": "2022-12-09T20:03:18.415527",
     "exception": false,
     "start_time": "2022-12-09T20:03:18.412864",
     "status": "completed"
    },
    "tags": []
   },
   "source": [
    "## 2. Prepare\n",
    "\n",
    "#### A. The Data\n",
    "Since Cyclistic is a fictional company, we will be using Motivate's ride-share company data 'Divvy' open source data which is accessed under this open [license](https://ride.divvybikes.com/data-license-agreement). \n",
    "The data itself is broken up into many files that date back to 2013, and we have been tasked to track patterns over the past 12 months. It may be useful to look at a wider span of dates to better identify patterns but this will only be attempted if we come across barriers or I feel the question could answered with more data.\n",
    "\n",
    "#### B. ROCC Analysis:\n",
    "\n",
    "**Reliable**: High, the data has a substantial  sample size (about a million rows on the trip_id column for each quarter.)\n",
    "**Original**: Hght, the data is provided by a first-party called Motivate International Inc. which owns Divy.\n",
    "**Comprehensive**: High, the data has more traits than needed for this analysis.\n",
    "**Current**: Med, the data is two- years old, it is not the most up-to-date data but, it is also not outdated either.\n",
    "**Cited**: Low, the data is collected from a third party.\n",
    "\n",
    "\n",
    "#### C. Upload Data & Prepare SQL over Python\n",
    "I used Excel to quickly get to know the data. There was nothing that couldn't be easier to do over SQL or R so I will transform and clean data here.\n",
    "\n",
    "#### D. Pre-Analysis\n",
    "![](http://https://ibb.co/G9W2hgR)I went through each column systematically and wrote notes on what jobs needed to be done in the preparation stage. You can access the [url=https://ibb.co/G9W2hgR][img]https://i.ibb.co/C6b7rxQ/Screen-Shot-2022-10-28-at-3-34-08-PM.png[/img][/url]\n",
    "\n",
    "[![Screen-Shot-2022-10-28-at-3-34-08-PM.png](https://i.postimg.cc/vBzF9tNZ/Screen-Shot-2022-10-28-at-3-34-08-PM.png)](https://postimg.cc/R6NDxKmk)\n"
   ]
  },
  {
   "cell_type": "markdown",
   "id": "5c829651",
   "metadata": {
    "papermill": {
     "duration": 0.002624,
     "end_time": "2022-12-09T20:03:18.421036",
     "exception": false,
     "start_time": "2022-12-09T20:03:18.418412",
     "status": "completed"
    },
    "tags": []
   },
   "source": [
    "## 3. Process\n",
    "I used BigQuery and SQL to clean the data. The following actions were performed before analysis:\n",
    "- Identify bikes that have no beginning or ending to their journey and station names that are NULL.\n",
    "- Allowed e-bikes with no end stations to be counted and titled as docked_bike and class_bike for distinction\n",
    "- Remove entries of trips that we identified in the preparation stage such as trips that were not completed on an e-bike, or temporary stations.\n",
    "- Create a day of the week and month column for data analysis patterns. \n",
    "- Trim whitespace around column names\n",
    "- Changed column name 'member_casual' to 'member_type' for clarity.\n",
    "\n",
    "Below is a sample of the SQL script. [All of the scripts can be accessed here.]\n",
    "[!]((https://github.com/cARMO85/BikeShare/blob/main/CyclisticDataProject.sql)\n",
    "[![Screen-Shot-2022-11-03-at-1-50-38-PM.png](https://i.postimg.cc/J0kNvpC1/Screen-Shot-2022-11-03-at-1-50-38-PM.png)](https://postimg.cc/fSMS0jbF)"
   ]
  },
  {
   "cell_type": "markdown",
   "id": "ed9e2bb6",
   "metadata": {
    "papermill": {
     "duration": 0.002533,
     "end_time": "2022-12-09T20:03:18.426108",
     "exception": false,
     "start_time": "2022-12-09T20:03:18.423575",
     "status": "completed"
    },
    "tags": []
   },
   "source": [
    "## 4. Analysis\n",
    "#### A. Prepare tables\n",
    "I used BigQuery to prepare the following tables before exporting them to Sheets and then into Tableau for visualisations:\n",
    "- ride_type \n",
    "- rides_per_day \n",
    "- rides_per_month\n",
    "- rides_per_hour\n",
    "- avg_journey\n",
    "- start_station_casual\n",
    "- start_station_member\n",
    "- end_station_casual\n",
    "- end_station_member\n",
    "- lock_location_casual\n",
    "- lock_location_member\n",
    "- no_of_membertype_rides\n",
    "\n",
    "Access the full [SQL script here.](https://github.com/cARMO85/BikeShare/blob/main/CyclisticDataProject.sql)"
   ]
  },
  {
   "cell_type": "markdown",
   "id": "3b1de955",
   "metadata": {
    "papermill": {
     "duration": 0.002894,
     "end_time": "2022-12-09T20:03:18.431552",
     "exception": false,
     "start_time": "2022-12-09T20:03:18.428658",
     "status": "completed"
    },
    "tags": []
   },
   "source": [
    "## 5. Share\n",
    "In Tableau, I uploaded all of my CSV files from BigQuery and started to investigate some of the patterns within the data.\n",
    "Here are some of my main takeaways from the data which can be accessed on my Tableau Public page [here](https://public.tableau.com/app/profile/paul.carmody3087/viz/CyclisticPaulCarmody/Dashboard1?publish=yes).\n",
    "#### Monthly, daily and hourly usage\n",
    "1. The pattern of users for both a member and a casual user is roughly the same for monthly and hourly patterns of use. That tells us both users are roughly affected by the time of day and the seasons the same. Where the difference is in the volume of usage. Members use the bikes much more often than casual members and we can also see two spikes in usage around 7 am and 5 pm. This would indicate that members use it for a commute to work or study. The similarities and differences in the patterns are shown below:\n",
    "\n",
    "[![month.png](https://i.postimg.cc/8ktk4BHS/month.png)](https://postimg.cc/z3H1Xh6t)\n",
    "[![hour.png](https://i.postimg.cc/HLRXr1r6/hour.png)](https://postimg.cc/wt57rPcN)"
   ]
  },
  {
   "cell_type": "markdown",
   "id": "3de119d4",
   "metadata": {
    "papermill": {
     "duration": 0.002825,
     "end_time": "2022-12-09T20:03:18.437130",
     "exception": false,
     "start_time": "2022-12-09T20:03:18.434305",
     "status": "completed"
    },
    "tags": []
   },
   "source": [
    "2. Next, I explored the daily usage of the bikes and found a very interesting inversion of usage between the members and the casual riders. The casual riders are using it mainly on the weekend and especially Saturday, whereas the members are using it more on the weekdays and less on the weekend. This is an important distinction as it shows the purpose of the bike usage varies dramatically for both categories of users.\n",
    "\n",
    "[![day.png](https://i.postimg.cc/W3cm9Psh/day.png)](https://postimg.cc/941qMKRh)"
   ]
  },
  {
   "cell_type": "markdown",
   "id": "38c4d20a",
   "metadata": {
    "papermill": {
     "duration": 0.003052,
     "end_time": "2022-12-09T20:03:18.442815",
     "exception": false,
     "start_time": "2022-12-09T20:03:18.439763",
     "status": "completed"
    },
    "tags": []
   },
   "source": [
    "#### Average trip duration\n",
    "After looking at the patterns across hours, months and days I turned my attention toward the duration of the bike rides. This again led to some clear patterns which could be useful. Casual riders use the bikes for a longer sum duration per trip.\n",
    "\n",
    "[![avg-journey.png](https://i.postimg.cc/kM6wv9KF/avg-journey.png)](https://postimg.cc/Z0mrJGfC)\n",
    "\n",
    "However, when we look at the number of rides that are categorized as member or casual, we see that 59% of trips are taken by members. These two observations combine to the conclusion that members use them more often for shorter trips whilst casual users them for longer and less frequent use.\n",
    "\n",
    "[![Sheet-1-3.png](https://i.postimg.cc/1tNXZqcQ/Sheet-1-3.png)](https://postimg.cc/mzBBYh5X)"
   ]
  },
  {
   "cell_type": "markdown",
   "id": "ef383894",
   "metadata": {
    "papermill": {
     "duration": 0.002834,
     "end_time": "2022-12-09T20:03:18.448674",
     "exception": false,
     "start_time": "2022-12-09T20:03:18.445840",
     "status": "completed"
    },
    "tags": []
   },
   "source": [
    "#### Where users start and end their journeys\n",
    "3. Finally, we will turn our attention to where the rides take place and investigate of there is a relationship between where casual users and members get on and off their bikes.\n",
    "\n",
    "[![map.png](https://i.postimg.cc/MHPY1CDp/map.png)](https://postimg.cc/7Jz7kQdF)"
   ]
  },
  {
   "cell_type": "markdown",
   "id": "13b562d5",
   "metadata": {
    "papermill": {
     "duration": 0.002876,
     "end_time": "2022-12-09T20:03:18.454073",
     "exception": false,
     "start_time": "2022-12-09T20:03:18.451197",
     "status": "completed"
    },
    "tags": []
   },
   "source": [
    "As we can see from above, all users are concentrated around the city centre areas of the city (both uptown and downtown) and there is a strong relationship between both types of users in that they use Cyclistic bikes in the same areas. Assumptions can be made here that the bikes are used for commuting around a busy city for members but there must be a good proportion of their casual members that are tourists. This is also evident in the fact that nearly all casual users are getting on or off their bikes at key tourist sites. In addition, as seen above, casual members use their bikes for longer rides which could indicate casual tourist use of the bikes. Further data would need to be collected to test this properly. \n"
   ]
  },
  {
   "cell_type": "markdown",
   "id": "965c4917",
   "metadata": {
    "papermill": {
     "duration": 0.002538,
     "end_time": "2022-12-09T20:03:18.459190",
     "exception": false,
     "start_time": "2022-12-09T20:03:18.456652",
     "status": "completed"
    },
    "tags": []
   },
   "source": [
    "## 6. Act\n",
    "\n",
    "#### A. Analysis Summary\n",
    "- Both users enjoy using the bikes in the summer months\n",
    "- Members like to use them as a commute to and from work/college\n",
    "- Weekends are popular for both user types but especially for casual users.\n",
    "- Weekdays are not popular for casual users\n",
    "- Casual riders go on longer journeys\n",
    "- Members use the bikes more often.\n",
    "- Both users prefer to use the bikes that are stationed around the city hubs and tourist spots.\n",
    "\n",
    "#### B. **Recommendations**\n",
    "My objective was to convert casual riders into members through data analysis. This can be achieved and I will explain how shortly, however one major understanding must be made now to make a more impactful action plan. This clear understanding is that many casual users are tourists.\n",
    "\n",
    "The data indicates that a large proportion of users are tourists because\n",
    "a. they do not use the bikes in commute times\n",
    "b. casual users predominately use the bikes in the dryer and warmer months\n",
    "c.casual users use them predominately for weekend usage and the weekday usage drastically falls off\n",
    "d. they use the bikes less often but go on longer trips which indicates they are exploring\n",
    "e. their usage is focused around tourist areas.\n",
    "\n",
    "### 1. Tourist passes\n",
    "If this recommendation is accepted based on my evidence above, then it is my recommendation that the marketing team tackles these users in an attempt to capture more revenue. I would recommend a tourist pass for the bikes. Either a daily, weekly, or monthly pass would offer to be cheaper for the user to use than a per-hour rate. \n",
    "\n",
    "### 2. Social media campaign\n",
    "A social media campaign should help non-tourist and tourist casual users alike convert to membership (or pass) by targeting the summer months and focusing the campaign on the bikes' ability to get around the city hubs easily as these are the two zones where all users are predominately used. \n",
    "\n",
    "### 3. Discounts available for users in certain stores\n",
    "If the marketing team could collaborate with local businesses around the areas that most casual users use, we could set up a scheme whereby customers who show their bike membership card, could get discounts on certain goods and services available in those stores. This would promote users and create a more widespread and embedded advertising campaign. Other citizens will see that Cyclistic users are getting favorable rates on certain products and will become curious about how to avail of these savings.\n",
    "\n",
    "### 4. Further data analysis\n",
    "I would love to explore how many of the casual users are tourists and more data would need to be collected to support some of the claims made here. \n",
    "I also feel that the company should lean stronger on the idea that a bike is a more environmentally friendly way of transport and further analysis should be made into how other companies have leveraged this fact into their advertising campaign. Perhaps a collaboration with the local government or environmental NGOs would offer another viable path for the company to develop.\n",
    "\n",
    "\n",
    "With the above analysis, I believe that I have provided Cyclistic with an accurate picture of current users and also offered several strong recommendations to grow their business. I also have provided the next steps in our ambition to take this company to the very next level. \n",
    "Paul Carmody\n"
   ]
  }
 ],
 "metadata": {
  "kernelspec": {
   "display_name": "Python 3.11.1 64-bit",
   "language": "python",
   "name": "python3"
  },
  "language_info": {
   "codemirror_mode": "r",
   "file_extension": ".r",
   "mimetype": "text/x-r-source",
   "name": "python",
   "pygments_lexer": "r",
   "version": "3.11.1"
  },
  "papermill": {
   "default_parameters": {},
   "duration": 4.45701,
   "end_time": "2022-12-09T20:03:18.585928",
   "environment_variables": {},
   "exception": null,
   "input_path": "__notebook__.ipynb",
   "output_path": "__notebook__.ipynb",
   "parameters": {},
   "start_time": "2022-12-09T20:03:14.128918",
   "version": "2.4.0"
  },
  "vscode": {
   "interpreter": {
    "hash": "aee8b7b246df8f9039afb4144a1f6fd8d2ca17a180786b69acc140d282b71a49"
   }
  }
 },
 "nbformat": 4,
 "nbformat_minor": 5
}
